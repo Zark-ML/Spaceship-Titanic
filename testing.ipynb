{
 "cells": [
  {
   "cell_type": "code",
   "execution_count": null,
   "id": "dddcff80-5ec4-4419-85a5-8c7dad15313f",
   "metadata": {},
   "outputs": [],
   "source": [
    "import numpy as np \n",
    "import pandas as pd\n",
    "import matplotlib.pyplot as plt\n",
    "import seaborn as sns\n",
    "import warnings\n",
    "import os\n",
    "import math\n",
    "import plotly\n",
    "import plotly.express as px\n",
    "import plotly.graph_objects as go\n",
    "from plotly.subplots import make_subplots\n",
    "from sklearn.preprocessing import LabelEncoder, OrdinalEncoder\n",
    "from sklearn.model_selection import  train_test_split, RandomizedSearchCV\n",
    "from sklearn.ensemble import StackingClassifier\n",
    "from sklearn.model_selection import cross_val_score, RepeatedStratifiedKFold\n",
    "from lazypredict.Supervised import LazyClassifier\n",
    "import category_encoders as ce\n",
    "import lightgbm as lgb\n",
    "from lightgbm import LGBMClassifier\n",
    "from xgboost import XGBClassifier\n",
    "from sklearn.linear_model import LogisticRegression\n",
    "from sklearn.svm import SVC\n",
    "from sklearn.ensemble import BaggingClassifier"
   ]
  },
  {
   "cell_type": "code",
   "execution_count": null,
   "id": "9fbf2491-59c9-40fa-b187-3c7d0637e8b8",
   "metadata": {},
   "outputs": [],
   "source": [
    "import pandas as pd\n",
    "\n",
    "train_data = pd.read_csv('data/train.csv')\n",
    "test_data = pd.read_csv('data/test.csv')\n",
    "submission_data = pd.read_csv('data/sample_submission.csv')\n",
    "\n",
    "X = train_data.drop(columns='Transported')\n",
    "y = train_data['Transported']\n",
    "\n",
    "df = train_data.copy()"
   ]
  },
  {
   "cell_type": "code",
   "execution_count": null,
   "id": "e34be465-0540-43ca-bfc4-93ecda706ff1",
   "metadata": {},
   "outputs": [],
   "source": [
    "def feature_split(df): # Splitter function for the PassengerId and Cabin features\n",
    "    if 'Cabin_Deck' not in df.keys().values: # Avoid multiple iterations of the same df\n",
    "        df['PassengerId_Group'] = df['PassengerId'].str.split(\"_\", expand = True)[0].astype(np.int)\n",
    "        df['PassengerId_GroupNumber'] = df['PassengerId'].str.split(\"_\", expand=True)[1].astype(np.int)\n",
    "\n",
    "        df['Cabin_Deck'] = df['Cabin'].str.split(\"/\", expand = True)[0].astype(\"string\")\n",
    "        df['Cabin_Num'] = df['Cabin'].str.split(\"/\", expand = True)[1].astype(\"string\")\n",
    "        df['Cabin_Side'] = df['Cabin'].str.split(\"/\", expand = True)[2].astype(\"string\")\n",
    "\n",
    "    # The function doesn't remove PassengerId because is more convenient for data_test\n",
    "    return df"
   ]
  },
  {
   "cell_type": "code",
   "execution_count": null,
   "id": "1a486b52-2cd8-4306-a771-68eff97dd6fc",
   "metadata": {},
   "outputs": [],
   "source": [
    "data_train = feature_split(data_train)\n",
    "data_train.head()"
   ]
  }
 ],
 "metadata": {
  "kernelspec": {
   "display_name": "Python 3 (ipykernel)",
   "language": "python",
   "name": "python3"
  },
  "language_info": {
   "codemirror_mode": {
    "name": "ipython",
    "version": 3
   },
   "file_extension": ".py",
   "mimetype": "text/x-python",
   "name": "python",
   "nbconvert_exporter": "python",
   "pygments_lexer": "ipython3",
   "version": "3.13.2"
  }
 },
 "nbformat": 4,
 "nbformat_minor": 5
}
